{
 "cells": [
  {
   "cell_type": "code",
   "execution_count": 10,
   "id": "027cb187-8356-46ac-977f-b3a7a5284298",
   "metadata": {},
   "outputs": [
    {
     "data": {
      "text/plain": [
       "True"
      ]
     },
     "execution_count": 10,
     "metadata": {},
     "output_type": "execute_result"
    }
   ],
   "source": [
    "import numpy as np\n",
    "import cv2\n",
    "\n",
    "def read_img(filename):\n",
    "    img = cv2.imread(filename)\n",
    "    return img\n",
    "\n",
    "def edge_detection(img, line_wdth, blur):\n",
    "    gray = cv2.cvtColor(img, cv2.COLOR_BGR2GRAY)\n",
    "    grayBlur = cv2.medianBlur(gray, blur)\n",
    "    edges = cv2.adaptiveThreshold(grayBlur, 255, cv2.ADAPTIVE_THRESH_GAUSSIAN_C, cv2.THRESH_BINARY, line_wdth, blur)\n",
    "    return edges\n",
    "\n",
    "def color_quantization(img, k):\n",
    "    data = np.float32(img).reshape((-1, 3))\n",
    "    criteria = (cv2.TERM_CRITERIA_EPS + cv2.TERM_CRITERIA_MAX_ITER, 20, 0.001)\n",
    "    rect, label, center = cv2.kmeans(data, k, None, criteria, 10, cv2.KMEANS_RANDOM_CENTERS)\n",
    "    center = np.uint8(center)\n",
    "    result = center[label.flatten()]\n",
    "    result = result.reshape(img.shape)\n",
    "    return result\n",
    "\n",
    "img = read_img(\"img5.jpeg\")\n",
    "line_wdth = 13\n",
    "blur_value = 7\n",
    "totalColors = 10\n",
    "\n",
    "edgeImg = edge_detection(img, line_wdth, blur_value)\n",
    "img = color_quantization(img, totalColors)\n",
    "blurred = cv2.bilateralFilter(img, d=9, sigmaColor=7, sigmaSpace=7)\n",
    "cartoon = cv2.bitwise_and(blurred, blurred, mask = edgeImg)\n",
    "cv2.imwrite(\"cartoon2.jpg\", cartoon)\n"
   ]
  }
 ],
 "metadata": {
  "kernelspec": {
   "display_name": "Python 3 (ipykernel)",
   "language": "python",
   "name": "python3"
  },
  "language_info": {
   "codemirror_mode": {
    "name": "ipython",
    "version": 3
   },
   "file_extension": ".py",
   "mimetype": "text/x-python",
   "name": "python",
   "nbconvert_exporter": "python",
   "pygments_lexer": "ipython3",
   "version": "3.9.12"
  }
 },
 "nbformat": 4,
 "nbformat_minor": 5
}
